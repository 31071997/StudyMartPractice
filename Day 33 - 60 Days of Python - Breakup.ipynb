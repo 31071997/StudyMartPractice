{
 "cells": [
  {
   "cell_type": "markdown",
   "id": "80b6525d",
   "metadata": {},
   "source": [
    "Learn Data Science: https://aiquest.org/ <br>\n",
    "Python for Everybody: https://aiquest.org/courses/python-for-everybody/ <br>\n",
    "Join Facebook Group: https://www.facebook.com/groups/StudyMart <br>\n",
    "Cell/WhatsApp: +8801704265972"
   ]
  },
  {
   "cell_type": "markdown",
   "id": "e6ab2ce2",
   "metadata": {},
   "source": [
    "# Problem 1: List Sum"
   ]
  },
  {
   "cell_type": "markdown",
   "id": "8dfb3453",
   "metadata": {},
   "source": [
    "Write a Python function that takes a list of numbers as input and returns the sum of all the elements in the list. <br>\n",
    "input_numbers = [1, 2, 3, 4, 5] <br>\n",
    "Sum: 15"
   ]
  },
  {
   "cell_type": "code",
   "execution_count": 19,
   "id": "d41fd0cd",
   "metadata": {},
   "outputs": [],
   "source": [
    "def list_sum(input_numbers):\n",
    "    sum = 0\n",
    "    for i in input_numbers:\n",
    "        sum += int(i)\n",
    "    return(sum)"
   ]
  },
  {
   "cell_type": "code",
   "execution_count": 20,
   "id": "d7ad7bf8",
   "metadata": {},
   "outputs": [
    {
     "name": "stdout",
     "output_type": "stream",
     "text": [
      "1 2 3 4 5\n"
     ]
    },
    {
     "data": {
      "text/plain": [
       "15"
      ]
     },
     "execution_count": 20,
     "metadata": {},
     "output_type": "execute_result"
    }
   ],
   "source": [
    "num = list(input().split(' '))\n",
    "list_sum(num)"
   ]
  },
  {
   "cell_type": "markdown",
   "id": "0392253b",
   "metadata": {},
   "source": [
    "# Problem 2: List Reversal"
   ]
  },
  {
   "cell_type": "markdown",
   "id": "3be50e74",
   "metadata": {},
   "source": [
    "Create a function that reverses a given list and returns the reversed list. <br>\n",
    "original_list = [10, 20, 30, 40, 50] <br>\n",
    "Reversed List: [50, 40, 30, 20, 10]\n"
   ]
  },
  {
   "cell_type": "code",
   "execution_count": 7,
   "id": "6d0a5c4d",
   "metadata": {},
   "outputs": [],
   "source": [
    "def List_Reversal(original_list):\n",
    "    i = len(original_list)-1\n",
    "    new = []\n",
    "    while(i >= 0):\n",
    "        new.append(original_list[i])\n",
    "        i -= 1\n",
    "    return new"
   ]
  },
  {
   "cell_type": "code",
   "execution_count": 9,
   "id": "3740030c-ac69-4edf-b74b-7d856de10e3b",
   "metadata": {},
   "outputs": [],
   "source": [
    "def integer(li1):\n",
    "    li2 = []\n",
    "    for i in li1:\n",
    "        li2.append(int(i))\n",
    "    return li2"
   ]
  },
  {
   "cell_type": "code",
   "execution_count": 11,
   "id": "2e0dee99-2839-4be1-8758-83fb32ab474e",
   "metadata": {},
   "outputs": [
    {
     "name": "stdin",
     "output_type": "stream",
     "text": [
      " 10 20 30 40 50\n"
     ]
    },
    {
     "name": "stdout",
     "output_type": "stream",
     "text": [
      "[50, 40, 30, 20, 10]\n"
     ]
    }
   ],
   "source": [
    "li = list(input().split(' '))\n",
    "print(List_Reversal(integer(li)))"
   ]
  },
  {
   "cell_type": "markdown",
   "id": "bf298361",
   "metadata": {},
   "source": [
    "# Problem 3: List Even Numbers"
   ]
  },
  {
   "cell_type": "markdown",
   "id": "ddf3d876",
   "metadata": {},
   "source": [
    "Write a function that takes a list of integers as input and returns a new list containing only the even numbers. <br>\n",
    "numbers = [1, 2, 3, 4, 5, 6, 7, 8, 9, 10] <br>\n",
    "Even Numbers: [2, 4, 6, 8, 10]"
   ]
  },
  {
   "cell_type": "code",
   "execution_count": 3,
   "id": "9fa29705",
   "metadata": {},
   "outputs": [
    {
     "name": "stdout",
     "output_type": "stream",
     "text": [
      "1 2 3 4 5 6 7 8 9 10\n",
      "[2, 4, 6, 8, 10]\n"
     ]
    }
   ],
   "source": [
    "def even_num(numbers):\n",
    "    rnum = []\n",
    "    for i in numbers:\n",
    "        i = int(i)\n",
    "        if(i%2 == 0):\n",
    "           rnum.append(i)\n",
    "    return rnum\n",
    "num = list(input().split())\n",
    "print(even_num(num))   "
   ]
  },
  {
   "cell_type": "markdown",
   "id": "48d3d6f4",
   "metadata": {},
   "source": [
    "# Problem 4: List Duplicates"
   ]
  },
  {
   "cell_type": "markdown",
   "id": "04676d7b",
   "metadata": {},
   "source": [
    "Create a function that finds and returns a list of unique elements from a given list. <br>\n",
    "elements = [1, 2, 2, 3, 4, 4, 5] <br>\n",
    "Unique Elements: [1, 2, 3, 4, 5]"
   ]
  },
  {
   "cell_type": "code",
   "execution_count": 11,
   "id": "1e4d1410",
   "metadata": {},
   "outputs": [],
   "source": [
    "def duplicates(elements):\n",
    "    new = []\n",
    "    for i in elements:\n",
    "        i = int(i)\n",
    "        if i not in new:\n",
    "            new.append(i)\n",
    "    return new"
   ]
  },
  {
   "cell_type": "code",
   "execution_count": 13,
   "id": "283cd063",
   "metadata": {},
   "outputs": [
    {
     "name": "stdin",
     "output_type": "stream",
     "text": [
      " 1 2 2 3 4 4 5\n"
     ]
    },
    {
     "name": "stdout",
     "output_type": "stream",
     "text": [
      "[1, 2, 3, 4, 5]\n"
     ]
    }
   ],
   "source": [
    "li = list(input().split(' '))\n",
    "print(duplicates(li))"
   ]
  },
  {
   "cell_type": "markdown",
   "id": "39af1384",
   "metadata": {},
   "source": [
    "# Problem 5: List Concatenation"
   ]
  },
  {
   "cell_type": "markdown",
   "id": "36d0a6cc",
   "metadata": {},
   "source": [
    "Write a function that takes two lists as input and returns a new list that is the concatenation of the two input lists. <br>\n",
    "list1 = [1, 2, 3] <br>\n",
    "list2 = [4, 5, 6] <br>\n",
    "Concatenated List: [1, 2, 3, 4, 5, 6]\n",
    "\n"
   ]
  },
  {
   "cell_type": "code",
   "execution_count": 29,
   "id": "aff73e5e",
   "metadata": {},
   "outputs": [],
   "source": [
    "def integer(li):\n",
    "    li2 = []\n",
    "    for i in li:\n",
    "        i = int(i)\n",
    "        li2.append(i)\n",
    "    return(li2)"
   ]
  },
  {
   "cell_type": "code",
   "execution_count": 31,
   "id": "a948c128",
   "metadata": {},
   "outputs": [
    {
     "name": "stdin",
     "output_type": "stream",
     "text": [
      " 1 2 3\n",
      " 4 5 6\n"
     ]
    },
    {
     "name": "stdout",
     "output_type": "stream",
     "text": [
      "[1, 2, 3, 4, 5, 6]\n"
     ]
    }
   ],
   "source": [
    "list1 = list(input().split(' '))\n",
    "list2 = list(input().split(' '))\n",
    "list3 = integer(list1 + list2)\n",
    "print(list3)"
   ]
  },
  {
   "cell_type": "markdown",
   "id": "aab3c1bf",
   "metadata": {},
   "source": [
    "বিশেষ দ্রষ্টব্য: অবশ্যই আপনাকে মাথা খাটিয়ে উত্তরগুলো বের করতে হবে! যদি চোরামি করে সলিউশন বের করেন, তাহলে আপনার ব্রেকআপ হয়ে যাবে! সেক্ষেত্রে কর্তৃপক্ষ দায়ী থাকবে না! ধন্যবাদ! <br>\n",
    "-shakil vai"
   ]
  }
 ],
 "metadata": {
  "kernelspec": {
   "display_name": "Python [conda env:base] *",
   "language": "python",
   "name": "conda-base-py"
  },
  "language_info": {
   "codemirror_mode": {
    "name": "ipython",
    "version": 3
   },
   "file_extension": ".py",
   "mimetype": "text/x-python",
   "name": "python",
   "nbconvert_exporter": "python",
   "pygments_lexer": "ipython3",
   "version": "3.11.5"
  }
 },
 "nbformat": 4,
 "nbformat_minor": 5
}
